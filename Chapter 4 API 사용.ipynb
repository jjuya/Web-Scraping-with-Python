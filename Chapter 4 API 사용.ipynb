{
 "cells": [
  {
   "cell_type": "markdown",
   "metadata": {},
   "source": [
    "### API \n",
    "- 애플리케이션 프로그래밍 인터페이스\n",
    "- 본질에서 다른 어러 애플리케이션 사이에 간편한 인터페이스를 제공\n",
    "- 서로 정보를 공유해야하는 소트프웨어 사이에서 국제어 구실을 하도록 디자인된 것\n",
    "- 요청을 보낼 때는 HTTP를 통해 요청하며 이 데이터를 XML이나 JSON 형식으로 제공"
   ]
  },
  {
   "cell_type": "markdown",
   "metadata": {},
   "source": [
    "#### API를 사용하는 것은 웹 스크래핑이 아니다\n",
    "- 둘 다 HTTP 요청 보내기를 사용해 정보 얻기를 추구한다.\n",
    "- 예 : 웹 스크레이퍼에서 얻은 정보와 API에서 얻은 정보를 결합해 더 유용한 것으로 바꿀 수 있다."
   ]
  },
  {
   "cell_type": "markdown",
   "metadata": {},
   "source": [
    "## 4.1 API는 어떻게 동작하는가"
   ]
  },
  {
   "cell_type": "markdown",
   "metadata": {},
   "source": [
    "- [구글 개발자 섹션](https://console.developers.google.com) : 언어 번역과 분석, 지오로케에션 등 수십 가지 API가 있다\n",
    "- 예 : http://freegeoip.net/json/50.78.253.58\n",
    "\n",
    "- API는 HTTP를 통해 동작\n",
    "    - HTTP : 웹사이트에서 데이터를 가져오고, 파일을 내려받고, 기타 인터넷에서 하는 거의 모든 일과 똑같은 프로토콜\n",
    "- API는 완전히 정형회된 문법을 사용한다, HTML이 아니라 JSON이나 XML로 데이터를 보낸다"
   ]
  },
  {
   "cell_type": "markdown",
   "metadata": {
    "collapsed": true
   },
   "source": [
    "## 4.2 공통 표기법"
   ]
  },
  {
   "cell_type": "markdown",
   "metadata": {
    "collapsed": true
   },
   "source": [
    "- API는 규격화된 정보를 제공\n",
    "- 정보를 생성하는 방법 역시 표준화\n",
    "- 처음 사용하는 API는 문서를 읽을 것"
   ]
  },
  {
   "cell_type": "markdown",
   "metadata": {},
   "source": [
    "### 4.2.1 메서드"
   ]
  },
  {
   "cell_type": "markdown",
   "metadata": {},
   "source": [
    "#### HTTP를 통해 웹 서버에 정보를 요청하는 방법\n",
    "- GET\n",
    "    - 브라우저의 주소표시줄을 통해 웹사이트에 방문할 때 사용\n",
    "    - 웹 서버에 정보를 요청할 때 사용\n",
    "- POST\n",
    "    - form 을 작성하거나 서버에 있는 스트립트에 저보를 보낼때 사용\n",
    "    - 웹사이트에 로그인할 때\n",
    "    - API에 POST 요청을 하는 것은 DB에 저장하라고 요청\n",
    "- PUT\n",
    "    - 객체나 정보를 업데이트할 때 사용\n",
    "    - 예 : 새 사용자를 등록할 땐 POST, 사용자의 이메일 주소를 업데이트 할 때는 PUT\n",
    "- DELETE\n",
    "    - 어떤 객체를 삭제할 때 사용"
   ]
  },
  {
   "cell_type": "markdown",
   "metadata": {},
   "source": [
    "### 4.2.2 인증"
   ]
  },
  {
   "cell_type": "markdown",
   "metadata": {},
   "source": [
    "- API 인증은 토큰을 사용"
   ]
  },
  {
   "cell_type": "code",
   "execution_count": null,
   "metadata": {
    "collapsed": true
   },
   "outputs": [],
   "source": [
    "# 예시\n",
    "token = \"[your api key]\"\n",
    "webRequest = urllib.request.Request(\"http://myapi.com\", headers={\"token\":token})\n",
    "html = urlopen(webRequest)"
   ]
  },
  {
   "cell_type": "markdown",
   "metadata": {},
   "source": [
    "## 4.3 응답"
   ]
  },
  {
   "cell_type": "markdown",
   "metadata": {},
   "source": [
    "- 가장 널리 쓰이는 응답 타입 : XML, JSON"
   ]
  },
  {
   "cell_type": "markdown",
   "metadata": {},
   "source": [
    "### 4.3.1 API 호출"
   ]
  },
  {
   "cell_type": "markdown",
   "metadata": {},
   "source": [
    "- 가상의 API에 ID가 1234인 유저가 2014년 8월 한달 동안 작성한 글\n",
    "    - http://socialmediasite.com/users/1234/posts?from=08012014&to=08312014\n",
    "\n",
    "\n",
    "- 버전 4, JSON 형식\n",
    "    - http://socialmediasite.com/api/v4/json/users/1234/posts?from=08012014&to=08312014\n",
    "\n",
    "\n",
    "- 버전과 형식을 매개변수로\n",
    "    - http://socialmediasite.com/users/1234/posts?format=json&from=08012014&to=08312014"
   ]
  },
  {
   "cell_type": "markdown",
   "metadata": {},
   "source": [
    "## 4.4 에코 네스트"
   ]
  },
  {
   "cell_type": "markdown",
   "metadata": {},
   "source": [
    "- 에코 네스트는 웹 스크레이퍼 기반으로 움직이는 회사\n",
    "- 인공지능으로 블로그와 뉴스에서 스크랩한 정보를 음악가, 음악, 앨범으로 분류\n",
    "\n",
    "\n",
    "- 에코 네스트의 API : http://static.echonest.com/enspex/"
   ]
  },
  {
   "cell_type": "markdown",
   "metadata": {},
   "source": [
    "## 4.5 트위터"
   ]
  },
  {
   "cell_type": "markdown",
   "metadata": {},
   "source": [
    "### 4.5.1 시작하기"
   ]
  },
  {
   "cell_type": "markdown",
   "metadata": {},
   "source": [
    "- 트위터 개발자 사이트 : https://apps.twitter.com/app/new\n",
    "\n",
    "\n",
    "1. 트위터 계정 만들기\n",
    "2. 트위터 개발자 사이트에 '애플리케이션' 등록"
   ]
  },
  {
   "cell_type": "markdown",
   "metadata": {},
   "source": [
    "### 4.5.2 몇 가지 예제"
   ]
  },
  {
   "cell_type": "markdown",
   "metadata": {},
   "source": [
    "- twitter\n",
    "    - http://mike.verdone.ca/twitter/#downloads\n",
    "    - pip로 설치"
   ]
  },
  {
   "cell_type": "markdown",
   "metadata": {},
   "source": [
    "## 4.6 구글 API"
   ]
  },
  {
   "cell_type": "markdown",
   "metadata": {},
   "source": [
    "- 구글 API 레퍼런스 페이지\n",
    "    - 제품 페이지 : https://developers.google.com/products/\n",
    "    - API 콘솔 : https://code.google.com/apis/console/\n",
    "    - 사용 제한과 요금 페이지 : https://developers.google.com/places/webservice/usage"
   ]
  },
  {
   "cell_type": "code",
   "execution_count": null,
   "metadata": {
    "collapsed": true
   },
   "outputs": [],
   "source": []
  }
 ],
 "metadata": {
  "kernelspec": {
   "display_name": "Python 3",
   "language": "python",
   "name": "python3"
  },
  "language_info": {
   "codemirror_mode": {
    "name": "ipython",
    "version": 3
   },
   "file_extension": ".py",
   "mimetype": "text/x-python",
   "name": "python",
   "nbconvert_exporter": "python",
   "pygments_lexer": "ipython3",
   "version": "3.6.1"
  }
 },
 "nbformat": 4,
 "nbformat_minor": 2
}
