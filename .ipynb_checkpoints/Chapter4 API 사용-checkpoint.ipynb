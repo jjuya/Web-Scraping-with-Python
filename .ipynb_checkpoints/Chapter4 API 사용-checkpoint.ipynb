{
 "cells": [
  {
   "cell_type": "markdown",
   "metadata": {},
   "source": [
    "### API \n",
    "- 애플리케이션 프로그래밍 인터페이스\n",
    "- 본질에서 다른 어러 애플리케이션 사이에 간편한 인터페이스를 제공\n",
    "- 서로 정보를 공유해야하는 소트프웨어 사이에서 국제어 구실을 하도록 디자인된 것\n",
    "- 요청을 보낼 때는 HTTP를 통해 요청하며 이 데이터를 XML이나 JSON 형식으로 제공"
   ]
  },
  {
   "cell_type": "markdown",
   "metadata": {},
   "source": [
    "#### API를 사용하는 것은 웹 스크래핑이 아니다\n",
    "- 둘 다 HTTP 요청 보내기를 사용해 정보 얻기를 추구한다.\n",
    "- 예 : 웹 스크레이퍼에서 얻은 정보와 API에서 얻은 정보를 결합해 더 유용한 것으로 바꿀 수 있다."
   ]
  },
  {
   "cell_type": "markdown",
   "metadata": {},
   "source": [
    "## 4.1 API는 어떻게 동작하는가"
   ]
  },
  {
   "cell_type": "markdown",
   "metadata": {},
   "source": [
    "- [구글 개발자 섹션](https://console.developers.google.com) : 언어 번역과 분석, 지오로케에션 등 수십 가지 API가 있다"
   ]
  },
  {
   "cell_type": "code",
   "execution_count": null,
   "metadata": {
    "collapsed": true
   },
   "outputs": [],
   "source": []
  }
 ],
 "metadata": {
  "kernelspec": {
   "display_name": "Python 3",
   "language": "python",
   "name": "python3"
  },
  "language_info": {
   "codemirror_mode": {
    "name": "ipython",
    "version": 3
   },
   "file_extension": ".py",
   "mimetype": "text/x-python",
   "name": "python",
   "nbconvert_exporter": "python",
   "pygments_lexer": "ipython3",
   "version": "3.6.1"
  }
 },
 "nbformat": 4,
 "nbformat_minor": 2
}
